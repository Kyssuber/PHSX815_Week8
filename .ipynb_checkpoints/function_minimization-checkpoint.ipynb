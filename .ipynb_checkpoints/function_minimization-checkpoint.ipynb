{
 "cells": [
  {
   "cell_type": "code",
   "execution_count": null,
   "metadata": {},
   "outputs": [],
   "source": [
    "import numpy as np\n",
    "from matplotlib import pyplot as plt\n",
    "%matplotlib inline\n",
    "from scipy.optimize import minimize\n",
    "\n",
    "import sys\n",
    "\n",
    "sys.path.append(\".\")\n",
    "\n",
    "def f(x):\n",
    "    return np.exp(-x)*np.cos(x)\n",
    "\n",
    "\n",
    "def minimization(x_min,x_max):\n",
    "    result = minimize(f,[x_min,x_max],method=CG)\n",
    "\n",
    "\n",
    "    \n",
    "#main function\n",
    "if __name__ == \"__main__\":\n",
    "    \n",
    "\n",
    "    \n",
    "\n",
    "    #default start bound\n",
    "    a = 0\n",
    "    #default stop bound\n",
    "    b = 3\n",
    "    #default number of subintervals for Gaussian quadrature\n",
    "    N = 20\n",
    "    #default number of \"darts\" thrown\n",
    "    Nsample = 1000\n",
    "    #x values    \n",
    "    \n",
    "    \n",
    "    if '-a' in sys.argv:\n",
    "        p = sys.argv.index('-a')\n",
    "        a = int(sys.argv[p+1])\n",
    "        \n",
    "    if '-b' in sys.argv:\n",
    "        p = sys.argv.index('-b')\n",
    "        b = int(sys.argv[p+1])\n",
    "        \n",
    "    if '-N' in sys.argv:\n",
    "        p = sys.argv.index('-N')\n",
    "        N = int(sys.argv[p+1])\n",
    "        \n",
    "    if '-Nsample' in sys.argv:\n",
    "        p = sys.argv.index('-Nsample')\n",
    "        Nsample = int(sys.argv[p+1])\n",
    "        \n",
    "    if '-h' in sys.argv or '--help' in sys.argv:\n",
    "        print (\"Usage: %s function [-a] lower_num [-b] upper_num [-N] subint_num\" % sys.argv[0],\"be sure function >= 0 for x in [a,b]\")\n",
    "        print\n",
    "        sys.exit([1])"
   ]
  },
  {
   "cell_type": "markdown",
   "metadata": {},
   "source": [
    "- Write a program that can find the minimum of a function that you define. The function can be any one (even very simple) as long as it actually has a minimum. You are welcome to use any standard or external C++ or Python libraries (you don't need to implement the minimization routine, only the function to be minimized). You can also try to visualize your function and the location of the minimum (not required)."
   ]
  },
  {
   "cell_type": "code",
   "execution_count": 30,
   "metadata": {},
   "outputs": [
    {
     "name": "stdout",
     "output_type": "stream",
     "text": [
      "Optimization terminated successfully.\n",
      "         Current function value: -0.161198\n",
      "         Iterations: 60\n",
      "         Function evaluations: 113\n"
     ]
    },
    {
     "data": {
      "text/plain": [
       "array([ 0.62665701, -0.62663095])"
      ]
     },
     "execution_count": 30,
     "metadata": {},
     "output_type": "execute_result"
    }
   ],
   "source": [
    "from scipy.optimize import fmin\n",
    "import math\n",
    "\n",
    "def f(x):\n",
    "    exp = (math.pow(x[0], 2) + math.pow(x[1], 2)) * -1\n",
    "    return math.exp(exp) * math.cos(x[0] * x[1]) * math.sin(x[0] * x[1])\n",
    "\n",
    "#[0,0] is the starting point\n",
    "fmin(f,np.array([0,0]))"
   ]
  },
  {
   "cell_type": "code",
   "execution_count": 33,
   "metadata": {},
   "outputs": [],
   "source": [
    "#the function, two parameters\n",
    "def f(x):\n",
    "    x1 = x[0]\n",
    "    x2 = x[1]\n",
    "    x3 = x[2]\n",
    "    return x1*x2*x3\n",
    "\n",
    "#x0 is initial guess, bounds=(min,max)\n",
    "#constraints example:\n",
    "#parameters must be such that their sum is greater than 25.0\n",
    "#def constraint1(x):\n",
    "    #return x[0]+x[1]+x[2] - 25.0\n",
    "#con1 = ['type': 'ineq','fun': constraint1]\n",
    "#cons = [con1]\n",
    "#constraints = cons\n",
    "#solution_variable.x --> yields solution array for x (at which the function minimum occurs)."
   ]
  },
  {
   "cell_type": "code",
   "execution_count": null,
   "metadata": {},
   "outputs": [],
   "source": []
  },
  {
   "cell_type": "code",
   "execution_count": null,
   "metadata": {},
   "outputs": [],
   "source": []
  },
  {
   "cell_type": "code",
   "execution_count": null,
   "metadata": {},
   "outputs": [],
   "source": []
  },
  {
   "cell_type": "code",
   "execution_count": 21,
   "metadata": {},
   "outputs": [],
   "source": [
    "from scipy.optimize import minimize"
   ]
  },
  {
   "cell_type": "code",
   "execution_count": 60,
   "metadata": {},
   "outputs": [],
   "source": [
    "from numpy.random import random"
   ]
  },
  {
   "cell_type": "code",
   "execution_count": 160,
   "metadata": {},
   "outputs": [],
   "source": [
    "#minimum and maximum bounds [x_min,x_max]\n",
    "x_min = -10\n",
    "x_max = 10\n",
    "\n",
    "\n",
    "#sample random points in function from -10 to 10. Append to list.\n",
    "\n",
    "rand_list = []\n",
    "\n",
    "for i in range(0,20):\n",
    "    x = random() \n",
    "    if random() < 0.5:\n",
    "        x = x*x_min\n",
    "    else:\n",
    "        x = x*x_max \n",
    "    rand_list.append(x)"
   ]
  },
  {
   "cell_type": "code",
   "execution_count": 161,
   "metadata": {},
   "outputs": [
    {
     "data": {
      "image/png": "[encoded data removed]",
      "text/plain": [
       "<Figure size 720x576 with 1 Axes>"
      ]
     },
     "metadata": {
      "needs_background": "light"
     },
     "output_type": "display_data"
    }
   ],
   "source": [
    "minimum_list_x = []\n",
    "minimum_list_f = []\n",
    "\n",
    "#function\n",
    "f =lambda x: np.exp(-x) * np.sin(x)\n",
    "\n",
    "#array of x values for plotting purposes\n",
    "x = np.linspace(x_min,x_max+0.5,10000)\n",
    "#preparing the \"blank canvas\"\n",
    "plt.figure(figsize=(10,8))\n",
    "plt.plot(x,f(x))\n",
    "\n",
    "#loop through each entry in rand_list, set as initial x0, apply scipy.optimize.minimize to f given x0\n",
    "for n in rand_list:\n",
    "    x0 = n\n",
    "    res = minimize(f,x0)\n",
    "    #appends x,f coordinates representing approximated minimum given x0 to two separate lists\n",
    "    minimum_list_x.append(res.x[0])\n",
    "    minimum_list_f.append(f(res.x)[0])\n",
    "\n",
    "    plt.scatter(res.x[0],f(res.x)[0],s=30,color='black')\n",
    "    \n",
    "#find and encircle the global minimum on given function range\n",
    "minimum_list_x = np.asarray(minimum_list_x)\n",
    "minimum_list_f = np.asarray(minimum_list_f)\n",
    "np.where()"
   ]
  },
  {
   "cell_type": "code",
   "execution_count": null,
   "metadata": {},
   "outputs": [],
   "source": []
  },
  {
   "cell_type": "code",
   "execution_count": null,
   "metadata": {},
   "outputs": [],
   "source": []
  },
  {
   "cell_type": "code",
   "execution_count": null,
   "metadata": {},
   "outputs": [],
   "source": []
  },
  {
   "cell_type": "code",
   "execution_count": null,
   "metadata": {},
   "outputs": [],
   "source": []
  }
 ],
 "metadata": {
  "kernelspec": {
   "display_name": "Python 3",
   "language": "python",
   "name": "python3"
  },
  "language_info": {
   "codemirror_mode": {
    "name": "ipython",
    "version": 3
   },
   "file_extension": ".py",
   "mimetype": "text/x-python",
   "name": "python",
   "nbconvert_exporter": "python",
   "pygments_lexer": "ipython3",
   "version": "3.8.3"
  }
 },
 "nbformat": 4,
 "nbformat_minor": 4
}
